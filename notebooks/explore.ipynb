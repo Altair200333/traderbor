{
 "cells": [
  {
   "cell_type": "code",
   "execution_count": 86,
   "metadata": {},
   "outputs": [
    {
     "name": "stdout",
     "output_type": "stream",
     "text": [
      "The autoreload extension is already loaded. To reload it, use:\n",
      "  %reload_ext autoreload\n"
     ]
    }
   ],
   "source": [
    "import matplotlib.pyplot as plt\n",
    "import numpy as np\n",
    "import matplotlib.pyplot as plt\n",
    "import seaborn as sns\n",
    "\n",
    "import os\n",
    "import sys\n",
    "\n",
    "module_path = os.path.abspath(os.path.join('..'))\n",
    "if module_path not in sys.path:\n",
    "    sys.path.append(module_path)\n",
    "\n",
    "from src.api import ApiClient\n",
    "from src.utils import *\n",
    "from src.const import *\n",
    "from src.plots import *\n",
    "\n",
    "%load_ext autoreload\n",
    "%autoreload 2\n",
    "\n",
    "sns.set_theme(style=\"darkgrid\")"
   ]
  },
  {
   "cell_type": "code",
   "execution_count": 78,
   "metadata": {},
   "outputs": [],
   "source": [
    "client = ApiClient()"
   ]
  },
  {
   "cell_type": "code",
   "execution_count": 79,
   "metadata": {},
   "outputs": [
    {
     "data": {
      "text/plain": [
       "'{\\n  \"description\": \"The image features a female animated character with vibrant red hair and striking blue eyes. She is wearing a black bikini and is posed with her arms raised, hands behind her head, against a soft blue background.\",\\n  \"style\": \"The artwork is rendered in a detailed digital painting style, characterized by smooth shading, detailed hair texturing, and a vivid color palette.\"\\n}'"
      ]
     },
     "execution_count": 79,
     "metadata": {},
     "output_type": "execute_result"
    }
   ],
   "source": [
    "client.create(\n",
    "    [\n",
    "        client.make_msg(\n",
    "            \"You are image descripto. Respond with json of this format: {'description': what you see, 'style': stylistics of the image}\",\n",
    "            role=ROLE_SYSTEM,\n",
    "        ),\n",
    "        client.make_msg(\n",
    "            text=\"What's in this image?\",\n",
    "            img=\"https://cdn.midjourney.com/ca13f713-b289-45ee-92fe-b1276a1dc833/0_3.webp\",\n",
    "        ),\n",
    "    ],\n",
    "    format=JSON_MODE,\n",
    ")"
   ]
  },
  {
   "cell_type": "code",
   "execution_count": 80,
   "metadata": {},
   "outputs": [
    {
     "data": {
      "text/plain": [
       "'{\"description\": \"The image displays a sine wave graph with five complete cycles stretching across a grid. The x-axis ranges from 0 to just over 300, and the y-axis ranges from -1.00 to 1.00. The wave oscillates smoothly between these y-values, demonstrating typical wave behavior.\", \"style\": \"Simplistic and educational, primarily used for illustrating mathematical concepts such as waves and oscillations.\"}'"
      ]
     },
     "execution_count": 80,
     "metadata": {},
     "output_type": "execute_result"
    }
   ],
   "source": [
    "plt.plot(np.sin(np.array(range(300)) * 0.1))\n",
    "\n",
    "client.create(\n",
    "    [\n",
    "        client.make_msg(\n",
    "            \"You are image descripto. Respond with json of this format: {'description': what you see, 'style': stylistics of the image}\",\n",
    "            role=ROLE_SYSTEM,\n",
    "        ),\n",
    "        client.make_msg(\n",
    "            text=\"What's in this image?\",\n",
    "            img=plt,\n",
    "        ),\n",
    "    ],\n",
    "    format=JSON_MODE,\n",
    ")"
   ]
  },
  {
   "cell_type": "code",
   "execution_count": 81,
   "metadata": {},
   "outputs": [
    {
     "data": {
      "image/png": "[encoded data removed]",
      "text/plain": [
       "<Figure size 862.5x690 with 4 Axes>"
      ]
     },
     "metadata": {},
     "output_type": "display_data"
    }
   ],
   "source": [
    "from src.signal_providers.exmo_signal_provider import ExmoProvider\n",
    "\n",
    "provider = ExmoProvider()\n",
    "candles = provider.get_history(\"TON\", start_date=1712707200, end_date=1713229200, resolution=\"D\")\n",
    "\n",
    "make_candlebars(candles)"
   ]
  },
  {
   "cell_type": "code",
   "execution_count": 87,
   "metadata": {},
   "outputs": [
    {
     "data": {
      "text/plain": [
       "'{\\n  \"description\": \"The image displays a combination of a candlestick chart and a bar chart plotted on dual y-axes, representing price and volume over several days in April. The candlestick chart shows prices from April 10 to April 16 with daily price variations: open, close, high, and low prices, where blue boxes indicate days where the closing price was higher than the opening price, and red boxes indicate the opposite. Below the candlestick chart, there is a bar graph representing trading volume on each day with corresponding colors (blue and red) indicating the price increase or decrease for that day.\"\\n}'"
      ]
     },
     "execution_count": 87,
     "metadata": {},
     "output_type": "execute_result"
    }
   ],
   "source": [
    "buf = make_candlebars(candles, useBuf=True)\n",
    "\n",
    "client.create(\n",
    "    [\n",
    "        client.make_msg(\n",
    "            \"You are image descriptor. Respond with json of this format: {'description': what you see, 'trend_analysys': rough prediction of future development of coin}\",\n",
    "            role=ROLE_SYSTEM,\n",
    "        ),\n",
    "        client.make_msg(\n",
    "            text=\"What's in this image?\",\n",
    "            img=buf,\n",
    "        ),\n",
    "    ],\n",
    "    format=JSON_MODE,\n",
    ")"
   ]
  },
  {
   "cell_type": "code",
   "execution_count": null,
   "metadata": {},
   "outputs": [],
   "source": []
  },
  {
   "cell_type": "code",
   "execution_count": null,
   "metadata": {},
   "outputs": [],
   "source": []
  }
 ],
 "metadata": {
  "kernelspec": {
   "display_name": "Python 3",
   "language": "python",
   "name": "python3"
  },
  "language_info": {
   "codemirror_mode": {
    "name": "ipython",
    "version": 3
   },
   "file_extension": ".py",
   "mimetype": "text/x-python",
   "name": "python",
   "nbconvert_exporter": "python",
   "pygments_lexer": "ipython3",
   "version": "3.12.1"
  }
 },
 "nbformat": 4,
 "nbformat_minor": 2
}
