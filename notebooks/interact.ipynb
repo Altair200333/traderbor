{
 "cells": [
  {
   "cell_type": "code",
   "execution_count": 1,
   "metadata": {},
   "outputs": [],
   "source": [
    "import numpy as np\n",
    "import ipywidgets as widgets\n",
    "from IPython.display import display\n",
    "import matplotlib.pyplot as plt\n",
    "import seaborn as sns\n",
    "\n",
    "import os\n",
    "import sys\n",
    "import json\n",
    "\n",
    "module_path = os.path.abspath(os.path.join('..'))\n",
    "if module_path not in sys.path:\n",
    "    sys.path.append(module_path)\n",
    "\n",
    "from src.api import ai_client\n",
    "from src.utils import *\n",
    "from src.const import *\n",
    "from src.plots import *\n",
    "from src.signal_providers.signal_manager import *\n",
    "from src.news_providers.news_api_provider import *\n",
    "from src.agents.news_filtering_agent import *\n",
    "from src.agents.trading_agent import *\n",
    "from src.signal_providers.bybit_bid_ask import BybitBidAskProvider\n",
    "\n",
    "%load_ext autoreload\n",
    "%autoreload 2\n",
    "\n",
    "sns.set_theme(style=\"darkgrid\")"
   ]
  },
  {
   "cell_type": "code",
   "execution_count": 2,
   "metadata": {},
   "outputs": [],
   "source": [
    "coin = \"ETH\"\n",
    "bid_ask_provider = BybitBidAskProvider()\n",
    "\n",
    "day_history = []\n",
    "heights = []\n",
    "\n",
    "def reload_data():\n",
    "    global day_history, heights\n",
    "\n",
    "    day_history, bid_ask = map_async(lambda: get_12h_history(coin), lambda: bid_ask_provider.get_data(coin))\n",
    "    \n",
    "    heights = [[x[\"price\"], x[\"amount\"]] for x in bid_ask[\"bid\"]]\n",
    "    ask_heights = [[x[\"price\"], -x[\"amount\"]] for x in bid_ask[\"ask\"]]\n",
    "    heights.extend(ask_heights)"
   ]
  },
  {
   "cell_type": "code",
   "execution_count": 5,
   "metadata": {},
   "outputs": [
    {
     "data": {
      "application/vnd.jupyter.widget-view+json": {
       "model_id": "9c77d8121aa241b18383d83eeea927b6",
       "version_major": 2,
       "version_minor": 0
      },
      "text/plain": [
       "VBox(children=(FloatSlider(value=101.0, continuous_update=False, description='Amplitude:', max=3000.0, min=0.0…"
      ]
     },
     "metadata": {},
     "output_type": "display_data"
    },
    {
     "data": {
      "application/vnd.jupyter.widget-view+json": {
       "model_id": "4c034015be244b40a0926b2747fe4ba2",
       "version_major": 2,
       "version_minor": 0
      },
      "text/plain": [
       "Output()"
      ]
     },
     "metadata": {},
     "output_type": "display_data"
    }
   ],
   "source": [
    "reload_data()\n",
    "    \n",
    "def plot_data(a):\n",
    "    plt.hist([x[1] for x in heights if abs(x[1]) < a], density=True, bins=100)\n",
    "\n",
    "    plt.show()\n",
    "\n",
    "button = widgets.Button(\n",
    "    description='Reload',\n",
    "    button_style='info',\n",
    "    tooltip='Click to reset the plot',\n",
    "    icon='refresh'\n",
    ")\n",
    "\n",
    "slider = widgets.FloatSlider(\n",
    "    value=101.0,\n",
    "    min=0.01,\n",
    "    max=3000.0,\n",
    "    step=0.1,\n",
    "    description='Amplitude:',\n",
    "    continuous_update=False\n",
    ")\n",
    "\n",
    "def on_button_clicked(b):\n",
    "    reload_data()\n",
    "    orig = slider.value\n",
    "    slider.value = orig + 1e-6\n",
    "    slider.value = orig\n",
    "\n",
    "button.on_click(on_button_clicked)\n",
    "\n",
    "ui = widgets.VBox([slider, button])\n",
    "display(ui)\n",
    "\n",
    "# Bind the slider to the plot function using interactive\n",
    "out = widgets.interactive_output(plot_data, {'a': slider})\n",
    "display(out)"
   ]
  },
  {
   "cell_type": "code",
   "execution_count": 7,
   "metadata": {},
   "outputs": [
    {
     "data": {
      "application/vnd.jupyter.widget-view+json": {
       "model_id": "5eec7f94e9644832b06540db52d8fd50",
       "version_major": 2,
       "version_minor": 0
      },
      "text/plain": [
       "VBox(children=(FloatSlider(value=100.0, continuous_update=False, description='Amplitude:', max=3000.0, min=0.0…"
      ]
     },
     "metadata": {},
     "output_type": "display_data"
    },
    {
     "data": {
      "application/vnd.jupyter.widget-view+json": {
       "model_id": "47b5caf371f54829bc710383f4fa2327",
       "version_major": 2,
       "version_minor": 0
      },
      "text/plain": [
       "Output()"
      ]
     },
     "metadata": {},
     "output_type": "display_data"
    }
   ],
   "source": [
    "reload_data()\n",
    "    \n",
    "def plot_data(a):\n",
    "    plot_candles_overlay(day_history, heights=heights, display_range=(-a, a), figsize=(20, 8))\n",
    "\n",
    "button = widgets.Button(\n",
    "    description='Reload',\n",
    "    button_style='info',\n",
    "    tooltip='Click to reset the plot',\n",
    "    icon='refresh'\n",
    ")\n",
    "\n",
    "slider = widgets.FloatSlider(\n",
    "    value=100.0,\n",
    "    min=0.01,\n",
    "    max=3000.0,\n",
    "    step=0.1,\n",
    "    description='Amplitude:',\n",
    "    continuous_update=False\n",
    ")\n",
    "\n",
    "def on_button_clicked(b):\n",
    "    reload_data()\n",
    "    orig = slider.value\n",
    "    slider.value = orig + 1e-6\n",
    "    slider.value = orig\n",
    "\n",
    "button.on_click(on_button_clicked)\n",
    "\n",
    "ui = widgets.VBox([slider, button])\n",
    "display(ui)\n",
    "\n",
    "# Bind the slider to the plot function using interactive\n",
    "out = widgets.interactive_output(plot_data, {'a': slider})\n",
    "display(out)"
   ]
  },
  {
   "cell_type": "code",
   "execution_count": null,
   "metadata": {},
   "outputs": [],
   "source": []
  }
 ],
 "metadata": {
  "kernelspec": {
   "display_name": "Python 3",
   "language": "python",
   "name": "python3"
  },
  "language_info": {
   "codemirror_mode": {
    "name": "ipython",
    "version": 3
   },
   "file_extension": ".py",
   "mimetype": "text/x-python",
   "name": "python",
   "nbconvert_exporter": "python",
   "pygments_lexer": "ipython3",
   "version": "3.12.1"
  }
 },
 "nbformat": 4,
 "nbformat_minor": 2
}
