{
 "cells": [
  {
   "cell_type": "code",
   "execution_count": 12,
   "metadata": {},
   "outputs": [
    {
     "name": "stdout",
     "output_type": "stream",
     "text": [
      "The autoreload extension is already loaded. To reload it, use:\n",
      "  %reload_ext autoreload\n"
     ]
    }
   ],
   "source": [
    "import numpy as np\n",
    "import ipywidgets as widgets\n",
    "from IPython.display import display\n",
    "import matplotlib.pyplot as plt\n",
    "import seaborn as sns\n",
    "\n",
    "import os\n",
    "import sys\n",
    "import json\n",
    "\n",
    "module_path = os.path.abspath(os.path.join('..'))\n",
    "if module_path not in sys.path:\n",
    "    sys.path.append(module_path)\n",
    "\n",
    "from src.api import ai_client\n",
    "from src.utils import *\n",
    "from src.const import *\n",
    "from src.plots import *\n",
    "from src.signal_providers.signal_manager import *\n",
    "from src.news_providers.news_api_provider import *\n",
    "from src.agents.news_filtering_agent import *\n",
    "from src.agents.trading_agent import *\n",
    "from src.signal_providers.bybit_bid_ask import BybitBidAskProvider\n",
    "\n",
    "%load_ext autoreload\n",
    "%autoreload 2\n",
    "\n",
    "sns.set_theme(style=\"darkgrid\")"
   ]
  },
  {
   "cell_type": "code",
   "execution_count": 13,
   "metadata": {},
   "outputs": [],
   "source": [
    "coin = \"ETH\"\n",
    "bid_ask_provider = BybitBidAskProvider()\n",
    "\n",
    "day_history = []\n",
    "heights = []\n",
    "\n",
    "def reload_data():\n",
    "    global day_history, heights\n",
    "\n",
    "    day_history, bid_ask = map_async(lambda: get_day_history(coin), lambda: bid_ask_provider.get_data(coin))\n",
    "    \n",
    "    heights = [[x[\"price\"], x[\"amount\"]] for x in bid_ask[\"bid\"]]\n",
    "    ask_heights = [[x[\"price\"], -x[\"amount\"]] for x in bid_ask[\"ask\"]]\n",
    "    heights.extend(ask_heights)"
   ]
  },
  {
   "cell_type": "code",
   "execution_count": null,
   "metadata": {},
   "outputs": [],
   "source": []
  },
  {
   "cell_type": "code",
   "execution_count": 15,
   "metadata": {},
   "outputs": [
    {
     "data": {
      "application/vnd.jupyter.widget-view+json": {
       "model_id": "096889192b4345ccbb6b8899ecf9537c",
       "version_major": 2,
       "version_minor": 0
      },
      "text/plain": [
       "VBox(children=(FloatSlider(value=1.0, continuous_update=False, description='Amplitude:', max=1000.0, min=0.01)…"
      ]
     },
     "metadata": {},
     "output_type": "display_data"
    },
    {
     "data": {
      "application/vnd.jupyter.widget-view+json": {
       "model_id": "bfce8ddfa9244629bf8d89f617146c4a",
       "version_major": 2,
       "version_minor": 0
      },
      "text/plain": [
       "Output()"
      ]
     },
     "metadata": {},
     "output_type": "display_data"
    }
   ],
   "source": [
    "reload_data()\n",
    "    \n",
    "def plot_data(a):\n",
    "    plt.hist([x[1] for x in heights if abs(x[1]) < a], density=True, bins=100)\n",
    "\n",
    "    plt.show()\n",
    "\n",
    "button = widgets.Button(\n",
    "    description='Reload',\n",
    "    button_style='info',\n",
    "    tooltip='Click to reset the plot',\n",
    "    icon='refresh'\n",
    ")\n",
    "\n",
    "slider = widgets.FloatSlider(\n",
    "    value=1.0,\n",
    "    min=0.01,\n",
    "    max=1000.0,\n",
    "    step=0.1,\n",
    "    description='Amplitude:',\n",
    "    continuous_update=False\n",
    ")\n",
    "\n",
    "def on_button_clicked(b):\n",
    "    reload_data()\n",
    "    orig = slider.value\n",
    "    slider.value = orig + 1e-6\n",
    "    slider.value = orig\n",
    "\n",
    "button.on_click(on_button_clicked)\n",
    "\n",
    "ui = widgets.VBox([slider, button])\n",
    "display(ui)\n",
    "\n",
    "# Bind the slider to the plot function using interactive\n",
    "out = widgets.interactive_output(plot_data, {'a': slider})\n",
    "display(out)"
   ]
  },
  {
   "cell_type": "code",
   "execution_count": 16,
   "metadata": {},
   "outputs": [
    {
     "data": {
      "application/vnd.jupyter.widget-view+json": {
       "model_id": "c54c53612813468cbfce01efe7133d59",
       "version_major": 2,
       "version_minor": 0
      },
      "text/plain": [
       "VBox(children=(FloatSlider(value=100.0, continuous_update=False, description='Amplitude:', max=1000.0, min=0.0…"
      ]
     },
     "metadata": {},
     "output_type": "display_data"
    },
    {
     "data": {
      "application/vnd.jupyter.widget-view+json": {
       "model_id": "6fa4b4a3332f432fa6971dfc2fee11f9",
       "version_major": 2,
       "version_minor": 0
      },
      "text/plain": [
       "Output()"
      ]
     },
     "metadata": {},
     "output_type": "display_data"
    }
   ],
   "source": [
    "reload_data()\n",
    "    \n",
    "def plot_data(a):\n",
    "    plot_candles_overlay(day_history, heights=heights, display_range=(-a, a), figsize=(20, 8))\n",
    "\n",
    "button = widgets.Button(\n",
    "    description='Reload',\n",
    "    button_style='info',\n",
    "    tooltip='Click to reset the plot',\n",
    "    icon='refresh'\n",
    ")\n",
    "\n",
    "slider = widgets.FloatSlider(\n",
    "    value=100.0,\n",
    "    min=0.01,\n",
    "    max=1000.0,\n",
    "    step=0.1,\n",
    "    description='Amplitude:',\n",
    "    continuous_update=False\n",
    ")\n",
    "\n",
    "def on_button_clicked(b):\n",
    "    reload_data()\n",
    "    orig = slider.value\n",
    "    slider.value = orig + 1e-6\n",
    "    slider.value = orig\n",
    "\n",
    "button.on_click(on_button_clicked)\n",
    "\n",
    "ui = widgets.VBox([slider, button])\n",
    "display(ui)\n",
    "\n",
    "# Bind the slider to the plot function using interactive\n",
    "out = widgets.interactive_output(plot_data, {'a': slider})\n",
    "display(out)"
   ]
  },
  {
   "cell_type": "code",
   "execution_count": null,
   "metadata": {},
   "outputs": [],
   "source": []
  }
 ],
 "metadata": {
  "kernelspec": {
   "display_name": "Python 3",
   "language": "python",
   "name": "python3"
  },
  "language_info": {
   "codemirror_mode": {
    "name": "ipython",
    "version": 3
   },
   "file_extension": ".py",
   "mimetype": "text/x-python",
   "name": "python",
   "nbconvert_exporter": "python",
   "pygments_lexer": "ipython3",
   "version": "3.12.1"
  }
 },
 "nbformat": 4,
 "nbformat_minor": 2
}
